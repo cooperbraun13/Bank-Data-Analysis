{
 "cells": [
  {
   "cell_type": "markdown",
   "id": "91a710ed",
   "metadata": {},
   "source": [
    "## Personal Finance Analysis & Prediction Project\n",
    "\n",
    "Author: Cooper Braun\n",
    "\n",
    "Class: CPSC-222 Spring 2025"
   ]
  },
  {
   "cell_type": "markdown",
   "id": "89608faa",
   "metadata": {},
   "source": [
    "### Introduction"
   ]
  },
  {
   "cell_type": "markdown",
   "id": "71fd8b57",
   "metadata": {},
   "source": [
    "### Data Preparation"
   ]
  },
  {
   "cell_type": "markdown",
   "id": "f3ce204f",
   "metadata": {},
   "source": [
    "### Exploratory Data Analysis"
   ]
  },
  {
   "cell_type": "markdown",
   "id": "5b8e0fe6",
   "metadata": {},
   "source": [
    "### Classification Results"
   ]
  },
  {
   "cell_type": "markdown",
   "id": "9d5aba6f",
   "metadata": {},
   "source": [
    "### Conclusion\n",
    "\n",
    "Sources:\n",
    "\n",
    "https://pypi.org/project/holidays/"
   ]
  },
  {
   "cell_type": "markdown",
   "id": "1f8d92e2",
   "metadata": {},
   "source": []
  }
 ],
 "metadata": {
  "language_info": {
   "name": "python"
  }
 },
 "nbformat": 4,
 "nbformat_minor": 5
}
