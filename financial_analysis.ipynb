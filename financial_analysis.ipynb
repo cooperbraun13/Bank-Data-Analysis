{
 "cells": [
  {
   "cell_type": "markdown",
   "id": "91a710ed",
   "metadata": {},
   "source": [
    "# Personal Finance Analysis & Prediction Project\n",
    "\n",
    "### Author: Cooper Braun\n",
    "\n",
    "### Class: CPSC-222 Spring 2025"
   ]
  },
  {
   "cell_type": "markdown",
   "id": "89608faa",
   "metadata": {},
   "source": [
    "## Introduction\n",
    "\n",
    "This project analyzes my personal financial data in relation to my academic schedule to identify spending patterns and make predictions about my spending behavior."
   ]
  },
  {
   "cell_type": "markdown",
   "id": "71fd8b57",
   "metadata": {},
   "source": [
    "## Data Preparation\n",
    "\n",
    "First off, let's import all of our necessary libraries and functions"
   ]
  },
  {
   "cell_type": "code",
   "execution_count": 1,
   "id": "bfe0013c",
   "metadata": {},
   "outputs": [],
   "source": [
    "import pandas as pd\n",
    "import numpy as np\n",
    "import matplotlib.pyplot as plt\n",
    "import seaborn as sns\n",
    "from scipy import stats\n",
    "from utils import *"
   ]
  },
  {
   "cell_type": "markdown",
   "id": "81f3d20f",
   "metadata": {},
   "source": [
    "### Gathering My Data\n",
    "\n",
    "I collected 7 months of banking transactions (September 2024 - April 2025) and my academic calendar for the same period. Let's load and examine this data:"
   ]
  },
  {
   "cell_type": "code",
   "execution_count": 2,
   "id": "c149744e",
   "metadata": {},
   "outputs": [
    {
     "name": "stdout",
     "output_type": "stream",
     "text": [
      "I have 205 banking transactions to analyze\n",
      "My academic calendar spans 152 days\n",
      "Here is a peek at a couple of my recent transactions\n"
     ]
    },
    {
     "data": {
      "text/html": [
       "<div>\n",
       "<style scoped>\n",
       "    .dataframe tbody tr th:only-of-type {\n",
       "        vertical-align: middle;\n",
       "    }\n",
       "\n",
       "    .dataframe tbody tr th {\n",
       "        vertical-align: top;\n",
       "    }\n",
       "\n",
       "    .dataframe thead th {\n",
       "        text-align: right;\n",
       "    }\n",
       "</style>\n",
       "<table border=\"1\" class=\"dataframe\">\n",
       "  <thead>\n",
       "    <tr style=\"text-align: right;\">\n",
       "      <th></th>\n",
       "      <th>Date</th>\n",
       "      <th>Description</th>\n",
       "      <th>Type</th>\n",
       "      <th>Amount</th>\n",
       "      <th>Current balance</th>\n",
       "      <th>Status</th>\n",
       "    </tr>\n",
       "  </thead>\n",
       "  <tbody>\n",
       "    <tr>\n",
       "      <th>0</th>\n",
       "      <td>2025-04-01</td>\n",
       "      <td>Mobile Check Deposit</td>\n",
       "      <td>Check Deposit</td>\n",
       "      <td>2000.00</td>\n",
       "      <td>2617.77</td>\n",
       "      <td>Posted</td>\n",
       "    </tr>\n",
       "    <tr>\n",
       "      <th>1</th>\n",
       "      <td>2025-03-31</td>\n",
       "      <td>Interest earned</td>\n",
       "      <td>Interest Earned</td>\n",
       "      <td>0.25</td>\n",
       "      <td>617.77</td>\n",
       "      <td>Posted</td>\n",
       "    </tr>\n",
       "    <tr>\n",
       "      <th>2</th>\n",
       "      <td>2025-03-28</td>\n",
       "      <td>Zelle® Payment to Eme</td>\n",
       "      <td>Direct Payment</td>\n",
       "      <td>-27.00</td>\n",
       "      <td>617.52</td>\n",
       "      <td>Posted</td>\n",
       "    </tr>\n",
       "    <tr>\n",
       "      <th>3</th>\n",
       "      <td>2025-03-25</td>\n",
       "      <td>DAVES HOT CHICKEN 1307</td>\n",
       "      <td>Debit Card</td>\n",
       "      <td>-29.41</td>\n",
       "      <td>644.52</td>\n",
       "      <td>Posted</td>\n",
       "    </tr>\n",
       "  </tbody>\n",
       "</table>\n",
       "</div>"
      ],
      "text/plain": [
       "         Date             Description             Type   Amount  \\\n",
       "0  2025-04-01    Mobile Check Deposit    Check Deposit  2000.00   \n",
       "1  2025-03-31         Interest earned  Interest Earned     0.25   \n",
       "2  2025-03-28   Zelle® Payment to Eme   Direct Payment   -27.00   \n",
       "3  2025-03-25  DAVES HOT CHICKEN 1307       Debit Card   -29.41   \n",
       "\n",
       "   Current balance  Status  \n",
       "0          2617.77  Posted  \n",
       "1           617.77  Posted  \n",
       "2           617.52  Posted  \n",
       "3           644.52  Posted  "
      ]
     },
     "metadata": {},
     "output_type": "display_data"
    }
   ],
   "source": [
    "# Load raw data\n",
    "bank_data, academic_data = load_data(\"data/raw/bank_data.csv\", \"data/raw/academic_calendar.csv\")\n",
    "\n",
    "print(f\"I have {bank_data.shape[0]} banking transactions to analyze\")\n",
    "print(f\"My academic calendar spans {academic_data.shape[0]} days\")\n",
    "\n",
    "# A few of my banking transactions to show data\n",
    "print(\"Here is a peek at a couple of my recent transactions\")\n",
    "display(bank_data.head(4))"
   ]
  },
  {
   "cell_type": "markdown",
   "id": "0bac42c3",
   "metadata": {},
   "source": [
    "### Making Sense of My Data\n",
    "\n",
    "The raw banking data is pretty hard to read and can be very difficult to understand some of the transactions. To add some context I need to:\n",
    "\n",
    "1. Convert dates to a format I can work with\n",
    "2. Categorize my transactions (Food, Transportation, etc.)\n",
    "3. Create spending categories (Small, Medium, Large, etc.)\n",
    "4. Add academic context to each transaction"
   ]
  },
  {
   "cell_type": "markdown",
   "id": "6bda0148",
   "metadata": {},
   "source": [
    "**Cleaning Banking Data**"
   ]
  },
  {
   "cell_type": "code",
   "execution_count": 3,
   "id": "ebd1ebed",
   "metadata": {},
   "outputs": [
    {
     "name": "stdout",
     "output_type": "stream",
     "text": [
      "How my transactions are distributed across categories:\n"
     ]
    },
    {
     "data": {
      "text/plain": [
       "Category\n",
       "Dining                   83\n",
       "Banking & Investments    44\n",
       "Groceries                31\n",
       "Other                    23\n",
       "Transportation            9\n",
       "Rent                      5\n",
       "Utilities                 4\n",
       "Subscriptions             3\n",
       "Parking                   3\n",
       "Name: count, dtype: int64"
      ]
     },
     "metadata": {},
     "output_type": "display_data"
    },
    {
     "name": "stdout",
     "output_type": "stream",
     "text": [
      "My spending patterns by size:\n"
     ]
    },
    {
     "data": {
      "text/plain": [
       "Spending_Bin\n",
       "Medium ($10-$50)               95\n",
       "Small (Less than $10)          50\n",
       "Large ($50-$100)               20\n",
       "Very Large (More than $100)    13\n",
       "Name: count, dtype: int64"
      ]
     },
     "metadata": {},
     "output_type": "display_data"
    }
   ],
   "source": [
    "# Clean the banking data\n",
    "bank_data = clean_bank_data(bank_data)\n",
    "\n",
    "# See how my transactions are categorized\n",
    "category_counts = bank_data[\"Category\"].value_counts()\n",
    "print(\"How my transactions are distributed across categories:\")\n",
    "display(category_counts)\n",
    "\n",
    "# Check out my spending bins\n",
    "bin_counts = bank_data[bank_data[\"Transaction_Type\"] == \"Debit\"][\"Spending_Bin\"].value_counts()\n",
    "print(\"My spending patterns by size:\")\n",
    "display(bin_counts)"
   ]
  },
  {
   "cell_type": "markdown",
   "id": "aad09163",
   "metadata": {},
   "source": [
    "**Cleaning Academic Data**"
   ]
  },
  {
   "cell_type": "code",
   "execution_count": 4,
   "id": "046bda57",
   "metadata": {},
   "outputs": [
    {
     "name": "stdout",
     "output_type": "stream",
     "text": [
      "How my 2024-2025 school year was structured:\n"
     ]
    },
    {
     "data": {
      "text/plain": [
       "period_type\n",
       "Class Period         52\n",
       "Break                39\n",
       "Weekend              34\n",
       "Assessment Period    27\n",
       "Name: count, dtype: int64"
      ]
     },
     "metadata": {},
     "output_type": "display_data"
    }
   ],
   "source": [
    "# Clean academic data\n",
    "academic_data = clean_academic_data(academic_data)\n",
    "\n",
    "# See how most of my sophomore year breaks down\n",
    "period_counts = academic_data[\"period_type\"].value_counts()\n",
    "print(\"How my 2024-2025 school year was structured:\")\n",
    "display(period_counts)"
   ]
  },
  {
   "cell_type": "markdown",
   "id": "f3ce204f",
   "metadata": {},
   "source": [
    "## Exploratory Data Analysis"
   ]
  },
  {
   "cell_type": "markdown",
   "id": "5b8e0fe6",
   "metadata": {},
   "source": [
    "## Classification Results"
   ]
  },
  {
   "cell_type": "markdown",
   "id": "9d5aba6f",
   "metadata": {},
   "source": [
    "## Conclusion\n",
    "\n",
    "Sources:\n",
    "\n",
    "https://www.programiz.com/python-programming/datetime/strftime"
   ]
  },
  {
   "cell_type": "markdown",
   "id": "1f8d92e2",
   "metadata": {},
   "source": []
  }
 ],
 "metadata": {
  "kernelspec": {
   "display_name": "base",
   "language": "python",
   "name": "python3"
  },
  "language_info": {
   "codemirror_mode": {
    "name": "ipython",
    "version": 3
   },
   "file_extension": ".py",
   "mimetype": "text/x-python",
   "name": "python",
   "nbconvert_exporter": "python",
   "pygments_lexer": "ipython3",
   "version": "3.12.2"
  }
 },
 "nbformat": 4,
 "nbformat_minor": 5
}
