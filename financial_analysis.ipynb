{
 "cells": [
  {
   "cell_type": "markdown",
   "id": "91a710ed",
   "metadata": {},
   "source": [
    "## Personal Finance Analysis & Prediction Project\n",
    "\n",
    "Author: Cooper Braun\n",
    "\n",
    "Class: CPSC-222 Spring 2025"
   ]
  },
  {
   "cell_type": "markdown",
   "id": "89608faa",
   "metadata": {},
   "source": [
    "### Introduction\n",
    "\n",
    "This project analyzes my personal financial data in relation to my academic schedule to identify spending patterns and make predictions about my spending behavior."
   ]
  },
  {
   "cell_type": "markdown",
   "id": "71fd8b57",
   "metadata": {},
   "source": [
    "### Data Preparation\n",
    "\n",
    "First off, let's import all of our necessary libraries and functions"
   ]
  },
  {
   "cell_type": "code",
   "execution_count": 1,
   "id": "bfe0013c",
   "metadata": {},
   "outputs": [],
   "source": [
    "import pandas as pd\n",
    "import numpy as np\n",
    "import matplotlib.pyplot as plt\n",
    "import seaborn as sns\n",
    "import utils"
   ]
  },
  {
   "cell_type": "markdown",
   "id": "f3ce204f",
   "metadata": {},
   "source": [
    "### Exploratory Data Analysis"
   ]
  },
  {
   "cell_type": "markdown",
   "id": "5b8e0fe6",
   "metadata": {},
   "source": [
    "### Classification Results"
   ]
  },
  {
   "cell_type": "markdown",
   "id": "9d5aba6f",
   "metadata": {},
   "source": [
    "### Conclusion\n",
    "\n",
    "Sources:\n",
    "\n",
    "https://www.programiz.com/python-programming/datetime/strftime"
   ]
  },
  {
   "cell_type": "markdown",
   "id": "1f8d92e2",
   "metadata": {},
   "source": []
  }
 ],
 "metadata": {
  "kernelspec": {
   "display_name": "base",
   "language": "python",
   "name": "python3"
  },
  "language_info": {
   "codemirror_mode": {
    "name": "ipython",
    "version": 3
   },
   "file_extension": ".py",
   "mimetype": "text/x-python",
   "name": "python",
   "nbconvert_exporter": "python",
   "pygments_lexer": "ipython3",
   "version": "3.12.2"
  }
 },
 "nbformat": 4,
 "nbformat_minor": 5
}
